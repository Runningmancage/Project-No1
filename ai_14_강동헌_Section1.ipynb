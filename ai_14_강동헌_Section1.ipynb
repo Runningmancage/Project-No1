{
  "nbformat": 4,
  "nbformat_minor": 0,
  "metadata": {
    "colab": {
      "name": "ai_14_강동헌_Section1.ipynb",
      "private_outputs": true,
      "provenance": []
    },
    "kernelspec": {
      "name": "python3",
      "display_name": "Python 3"
    },
    "language_info": {
      "name": "python"
    }
  },
  "cells": [
    {
      "cell_type": "code",
      "execution_count": null,
      "metadata": {
        "id": "PFVZxW7bE7C_"
      },
      "outputs": [],
      "source": [
        "import pandas as pd\n",
        "import numpy as np\n",
        "from google.colab import files\n",
        "files.upload()"
      ]
    },
    {
      "cell_type": "code",
      "source": [
        "#나눔바른고딕 다운로드\n",
        "!sudo apt-get install -y fonts-nanum\n",
        "!sudo fc-cache -fv\n",
        "!rm ~/.cache/matplotlib -rf"
      ],
      "metadata": {
        "id": "TSFAYnz5_MNO"
      },
      "execution_count": null,
      "outputs": []
    },
    {
      "cell_type": "code",
      "source": [
        "df = pd.read_csv('vgames2.csv')\n",
        "df.info()"
      ],
      "metadata": {
        "id": "tSB_JxVdFukH"
      },
      "execution_count": null,
      "outputs": []
    },
    {
      "cell_type": "code",
      "source": [
        "#check data size\n",
        "df.shape"
      ],
      "metadata": {
        "id": "We6OvBj3GTQ7"
      },
      "execution_count": null,
      "outputs": []
    },
    {
      "cell_type": "code",
      "source": [
        "# check missing data\n",
        "df.isnull().sum()\n",
        "#Year, Genre, Publisher missing data"
      ],
      "metadata": {
        "id": "u65tbnwyG2VN"
      },
      "execution_count": null,
      "outputs": []
    },
    {
      "cell_type": "code",
      "source": [
        "#중복확인\n",
        "df.duplicated().sum()"
      ],
      "metadata": {
        "id": "1KmnTmBEYNPs"
      },
      "execution_count": null,
      "outputs": []
    },
    {
      "cell_type": "code",
      "source": [
        "# unnamed은 필요없는 데이터이므로 지운다\n",
        "#df를 clean dataframe으로 남기기 위해서 새로운 변수 지정\n",
        "dfy_col = df.iloc[:,1:]\n",
        "dfy_col.head(-10)"
      ],
      "metadata": {
        "id": "c9481Td5HqbR"
      },
      "execution_count": null,
      "outputs": []
    },
    {
      "cell_type": "code",
      "source": [
        "# 연도별 게임 트랜드가 있을까 에 대한 분석 시작\n",
        "# 연도와 장르가 중요하기 때문에 Year열과 Genre열, Publisher 에서 결측치가 있는 행들은 평균값이나 임의의 값을 넣어준다\n",
        "dfy_col['Year']=dfy_col['Year'].fillna(dfy_col['Year'].mean())\n",
        "dfy_col['Publisher']= dfy_col['Publisher'].fillna('X')\n",
        "dfy_col['Genre']= dfy_col['Genre'].fillna('X')\n",
        "dfy_col.head(-10)"
      ],
      "metadata": {
        "id": "6c1R1U4ULYV1"
      },
      "execution_count": null,
      "outputs": []
    },
    {
      "cell_type": "code",
      "source": [
        "#Year, 'NA_Sales' ,EU_Sales,JP_Sales,Other_Sales 내 'K', 'M' 변경\n",
        "dfy_col['NA_Sales'].replace({\"M\":\"\"}, inplace = True, regex=True)\n",
        "dfy_col['EU_Sales'].replace({ \"M\":\"\"},inplace = True, regex=True)\n",
        "dfy_col['JP_Sales'].replace({\"M\":\"\"}, regex=True,inplace = True)\n",
        "dfy_col['Other_Sales'].replace({\"M\":\"\"}, regex=True,inplace = True)"
      ],
      "metadata": {
        "id": "uNrIW9hNVLLC"
      },
      "execution_count": null,
      "outputs": []
    },
    {
      "cell_type": "code",
      "source": [
        "ind1 =  dfy_col[dfy_col['NA_Sales'].str.count('K')>0]['NA_Sales'].index\n",
        "ind2 =  dfy_col[dfy_col['EU_Sales'].str.count('K')>0]['EU_Sales'].index\n",
        "ind3 =  dfy_col[dfy_col['JP_Sales'].str.count('K')>0]['JP_Sales'].index\n",
        "ind4 =  dfy_col[dfy_col['Other_Sales'].str.count('K')>0]['Other_Sales'].index"
      ],
      "metadata": {
        "id": "cs0bxb7wgWwe"
      },
      "execution_count": null,
      "outputs": []
    },
    {
      "cell_type": "code",
      "source": [
        "#NA\n",
        "ind1_t = []\n",
        "for t in ind1 :\n",
        "  ind1_t.append(float(t)*0.001)\n",
        "a=0\n",
        "while a < len(ind1_t):\n",
        "  for i in ind1:\n",
        "    dfy_col.iloc[i,5] = ind1_t[a]\n",
        "    a += 1"
      ],
      "metadata": {
        "id": "YFS8ardOmcwu"
      },
      "execution_count": null,
      "outputs": []
    },
    {
      "cell_type": "code",
      "source": [
        "#EU\n",
        "ind2_t = []\n",
        "for t in ind2 :\n",
        "  ind2_t.append(float(t)*0.001)\n",
        "a=0\n",
        "while a < len(ind2_t):\n",
        "  for i in ind2:\n",
        "    dfy_col.iloc[i,6] = ind2_t[a]\n",
        "    a += 1"
      ],
      "metadata": {
        "id": "reN-8A-9m7bp"
      },
      "execution_count": null,
      "outputs": []
    },
    {
      "cell_type": "code",
      "source": [
        "#JP\n",
        "ind3_t = []\n",
        "for t in ind3 :\n",
        "  ind3_t.append(float(t)*0.001)\n",
        "a=0\n",
        "while a < len(ind3_t):\n",
        "  for i in ind3:\n",
        "    dfy_col.iloc[i,7] = ind3_t[a]\n",
        "    a += 1"
      ],
      "metadata": {
        "id": "R-wJdtj7mOp2"
      },
      "execution_count": null,
      "outputs": []
    },
    {
      "cell_type": "code",
      "source": [
        "#Other\n",
        "ind4_t = []\n",
        "for t in ind4 :\n",
        "  ind4_t.append(float(t)*0.001)\n",
        "a=0\n",
        "while a < len(ind4_t):\n",
        "  for i in ind4:\n",
        "    dfy_col.iloc[i,8] = ind4_t[a]\n",
        "    a += 1"
      ],
      "metadata": {
        "id": "Z3HL8WlonTRz"
      },
      "execution_count": null,
      "outputs": []
    },
    {
      "cell_type": "code",
      "source": [
        "#Year, 'NA_Sales' ,EU_Sales,JP_Sales,Other_Sales 타입변경\n",
        "dfy_col = dfy_col.astype({'Year':'int' })\n",
        "dfy_col['NA_Sales'] = dfy_col['NA_Sales'].astype(float, errors = 'raise')\n",
        "dfy_col['JP_Sales'] = dfy_col['JP_Sales'].astype(float, errors = 'raise')\n",
        "dfy_col['Other_Sales'] = dfy_col['Other_Sales'].astype(float, errors = 'raise')\n",
        "dfy_col['EU_Sales'] = dfy_col['EU_Sales'].astype(float, errors = 'raise')"
      ],
      "metadata": {
        "id": "dcIfm9yg_Eeq"
      },
      "execution_count": null,
      "outputs": []
    },
    {
      "cell_type": "code",
      "source": [
        "dfy_col.info()"
      ],
      "metadata": {
        "id": "SfIjT1dqDS-E"
      },
      "execution_count": null,
      "outputs": []
    },
    {
      "cell_type": "code",
      "source": [
        "#M(백만)표시가 있었으므로 단위가 안 붙어 있던 숫자들은 기본단위 M으로 가정하여 백만을 곱해준다\n",
        "#계속 진행해보니 숫자가 너무 커지는 거 같아서 Sales 들어간 컬럼의 기본단위는 K로 수정\n",
        "dfy_col['NA_Sales'] = dfy_col['NA_Sales']*1000\n",
        "dfy_col['EU_Sales'] = dfy_col['EU_Sales']*1000\n",
        "dfy_col['JP_Sales'] = dfy_col['JP_Sales']*1000\n",
        "dfy_col['Other_Sales'] = dfy_col['Other_Sales']*1000"
      ],
      "metadata": {
        "id": "Y3PytktnY1qq"
      },
      "execution_count": null,
      "outputs": []
    },
    {
      "cell_type": "code",
      "source": [
        "#Sales 합계구하자\n",
        "dfy_col['Sales'] = dfy_col.eval('NA_Sales+EU_Sales+JP_Sales+Other_Sales')\n",
        "dfy_col.head(-10)"
      ],
      "metadata": {
        "id": "qzYujzizVPue"
      },
      "execution_count": null,
      "outputs": []
    },
    {
      "cell_type": "code",
      "source": [
        "#연도별 트렌드를 알기 위해서 판매량 수집\n",
        "dfy_col.groupby('Genre')['Sales'].mean()"
      ],
      "metadata": {
        "id": "_h11UTv0WMne"
      },
      "execution_count": null,
      "outputs": []
    },
    {
      "cell_type": "code",
      "source": [
        "#그래프\n",
        "import seaborn as sns\n",
        "import matplotlib.pyplot as plt\n",
        "sns.set(font='NanumBarunGothic', rc={\"axes.unicode_minus\":False},style='whitegrid')"
      ],
      "metadata": {
        "id": "houjpkrPJfM1"
      },
      "execution_count": null,
      "outputs": []
    },
    {
      "cell_type": "code",
      "source": [
        "dfy_col.groupby('Year').sum()"
      ],
      "metadata": {
        "id": "Zcf7smIbDxA9"
      },
      "execution_count": null,
      "outputs": []
    },
    {
      "cell_type": "code",
      "source": [
        "#1980년 이전과 2017년 이후는 데이터가 의미 없으므로 지운다\n",
        "dfy_col_clean = dfy_col[(dfy_col.Year >= 1980) & (dfy_col.Year<=2016)]\n",
        "dfy_col_clean = dfy_col_clean.reset_index(drop=True)\n",
        "dfy_col_clean"
      ],
      "metadata": {
        "id": "GwhPR3NEag1Q"
      },
      "execution_count": null,
      "outputs": []
    },
    {
      "cell_type": "code",
      "source": [
        "#Genre의 unique 확인\n",
        "dfy_col_clean['Genre'].unique()"
      ],
      "metadata": {
        "id": "dCzx4zwEMbjW"
      },
      "execution_count": null,
      "outputs": []
    },
    {
      "cell_type": "markdown",
      "source": [
        "# **1. 지역에따라 선호하는 게임장르**"
      ],
      "metadata": {
        "id": "x3Y_V0ErL-Dy"
      }
    },
    {
      "cell_type": "code",
      "source": [
        "dfy_genre = pd.concat([dfy_col_clean['Genre'],dfy_col_clean['NA_Sales'],dfy_col_clean['EU_Sales'],dfy_col_clean['JP_Sales'],dfy_col_clean['Other_Sales'],dfy_col_clean['Sales']],axis = 1)\n",
        "dfy_genre = dfy_genre.groupby(['Genre']).sum()\n",
        "dfy_genre"
      ],
      "metadata": {
        "id": "of2g5vkCd2pT"
      },
      "execution_count": null,
      "outputs": []
    },
    {
      "cell_type": "code",
      "source": [
        "#지역에 따라 선호하는 장르의 평균이 유의미한 차이가 있는지 검증\n",
        "import scipy.stats\n",
        "\n",
        "chi2, pvalue, dof, expected = scipy.stats.chi2_contingency(dfy_genre)\n",
        "print(f'p-value 값이 {pvalue}이므로 지역과 장르는 충분한 상관관계를 갖는다') "
      ],
      "metadata": {
        "id": "VEuDuPSbZpjV"
      },
      "execution_count": null,
      "outputs": []
    },
    {
      "cell_type": "code",
      "source": [
        "# 연도에 따른 각 지역별 출고량을 위한 전처리\n",
        "\n",
        "df_ys = dfy_col_clean.groupby(by = ['Year','Genre'])['NA_Sales', 'EU_Sales', 'JP_Sales', 'Other_Sales', 'Sales'].sum().stack()\n",
        "df_ys = df_ys.reset_index()\n",
        "df_ys.rename(columns = {'level_2' : 'Region'}, inplace = True)\n",
        "df_ys.rename(columns = {0 : 'Total_Sales'}, inplace = True)\n",
        "df_ys.head()"
      ],
      "metadata": {
        "id": "2tIZ10f-Mruj"
      },
      "execution_count": null,
      "outputs": []
    },
    {
      "cell_type": "code",
      "source": [
        "#지역과 장르에 대한 시각화\n",
        "plt.figure(figsize = (13,10))\n",
        "bar_width = 0.15\n",
        "index = np.arange(13)\n",
        "b1 = plt.bar(index, dfy_col_clean.groupby('Genre')['NA_Sales'].sum()\n",
        "             ,bar_width,alpha=0.4, color='red', label='NA_Sales')\n",
        "b2 = plt.bar(index+bar_width, dfy_col_clean.groupby('Genre')['EU_Sales'].sum()\n",
        "             ,bar_width,alpha=0.4, color='blue', label='EU_Sales' )\n",
        "b3 = plt.bar(index+2*bar_width, dfy_col_clean.groupby('Genre')['JP_Sales'].sum()\n",
        "             ,bar_width,alpha=0.4, color='green', label='JP_Sales' )\n",
        "b4 = plt.bar(index+3*bar_width, dfy_col_clean.groupby('Genre')['Other_Sales'].sum()\n",
        "             ,bar_width,alpha=0.4, color='black', label='Other_Sales' )\n",
        "b4 = plt.bar(index+4*bar_width, dfy_col_clean.groupby('Genre')['Sales'].sum()\n",
        "             ,bar_width,alpha=0.4, color='pink', label='Sales' )\n",
        "# x축 위치를 정 가운데로 조정하고 x축의 텍스트를 genre 정보와 매칭\n",
        "plt.xticks(np.arange(bar_width, 13 + bar_width, 1), dfy_col_clean['Genre'].value_counts().sort_index().index)\n",
        "# x축, y축 이름 및 범례 설정\n",
        "plt.xlabel('genre', size = 13)\n",
        "plt.ylabel('sale', size = 13)\n",
        "plt.title('지역에 따라 선호하는 게임장르')\n",
        "plt.legend()\n",
        "plt.show()"
      ],
      "metadata": {
        "id": "F8ulhcCvMuik"
      },
      "execution_count": null,
      "outputs": []
    },
    {
      "cell_type": "code",
      "source": [
        "# 연도에 따른 지역별 판매량 그래프 그리기\n",
        "plt.figure(figsize=(15, 5))\n",
        "sns.lineplot(data=df_ys, x=\"Genre\", y=\"Total_Sales\", hue=\"Region\", linewidth=3)\n",
        "plt.legend(bbox_to_anchor=(1.02, 1), loc=2, borderaxespad=0.)\n",
        "plt.title('장르에 따른 각 지역별 판매량', fontsize=20)"
      ],
      "metadata": {
        "id": "r4RwfOEmMLic"
      },
      "execution_count": null,
      "outputs": []
    },
    {
      "cell_type": "markdown",
      "source": [
        "각 지역별로 장르 판매량을 봤을 때 \n",
        "미국,유럽, 기타 국가들의 경우 Action, Sports, Shooter 순으로 많이 팔렸고\n",
        "일본의 경우 Role-Playing, Action, Sports 순으로 팔렸다\n",
        "이 결과는 일본을 제외한 나머지 국가들은 Action 게임을 가장 많이 즐기고\n",
        "일본은 Role-Playing 게임을 즐긴다는 것을 보여준다."
      ],
      "metadata": {
        "id": "iM0QU8EtwDzT"
      }
    },
    {
      "cell_type": "markdown",
      "source": [
        "# **2. 연도별 게임 트랜드 확인**"
      ],
      "metadata": {
        "id": "wYlTH27JPE-C"
      }
    },
    {
      "cell_type": "code",
      "source": [
        "df_yg = dfy_col_clean.groupby(['Year', 'Genre'])['Sales'].sum().unstack()\n",
        "df_yg = df_yg.fillna(0)\n",
        "df_yg = df_yg.reset_index()\n",
        "#df_yg = df_yg.stack()\n",
        "df_yg.info()"
      ],
      "metadata": {
        "id": "7wmgrpb-Po6Q"
      },
      "execution_count": null,
      "outputs": []
    },
    {
      "cell_type": "code",
      "source": [
        "#연도와 장르에 대한 시각화\n",
        "plt.figure(figsize = (12,10))\n",
        "plt.title('연도별 게임의 트랜드', fontsize=20)\n",
        "plt.ylabel('판매량 (K)')\n",
        "sns.scatterplot(data = dfy_col_clean, x = dfy_col_clean['Year'],y = dfy_col_clean['Sales'], hue = dfy_col_clean['Genre'], \n",
        "                style = dfy_col_clean['Genre'], s = (50,900) , size = dfy_col_clean['Sales'])"
      ],
      "metadata": {
        "id": "XL1mgS5zPt0v"
      },
      "execution_count": null,
      "outputs": []
    },
    {
      "cell_type": "code",
      "source": [
        "plt.figure(figsize = (15,8))\n",
        "plt.title('연도별 게임의 트랜드', fontsize=20)\n",
        "plt.ylabel('판매량 (K)')\n",
        "sns.set_palette(\"Paired\")\n",
        "genre = df_yg.columns\n",
        "for i in range(1, len(genre)):\n",
        "    sns.lineplot(data=df_yg, x='Year', y=genre[i], label=genre[i])"
      ],
      "metadata": {
        "id": "YXve4lqvP3fp"
      },
      "execution_count": null,
      "outputs": []
    },
    {
      "cell_type": "code",
      "source": [
        "df_ygs = dfy_col_clean.groupby(['Year', 'Genre'])['Sales'].sum()\n",
        "df_ygs = df_ygs.reset_index()\n",
        "df_ygs.head()"
      ],
      "metadata": {
        "id": "ivk7TiFsXwrW"
      },
      "execution_count": null,
      "outputs": []
    },
    {
      "cell_type": "code",
      "source": [
        "# 판매량이 가장 높은 3개의 장르 리스트 만들기.\n",
        "\n",
        "df_genre = df_ygs.groupby('Genre')['Sales'].sum().to_frame()\n",
        "df_genre = df_genre.sort_values(by='Sales', ascending=False).head(3)\n",
        "df_genre = df_genre.reset_index()\n",
        "genre_list = df_genre['Genre'].array\n",
        "\n",
        "# 판매량이 가장 높은 3개의 게임장르의 정보 담기.\n",
        "df_genre_top3 = pd.DataFrame()\n",
        "\n",
        "for i in range(len(genre_list)):\n",
        "    df_g = df_ygs[df_ygs['Genre']==genre_list[i]]\n",
        "    df_genre_top3 = df_genre_top3.append(df_g)\n",
        "    \n",
        "df_genre_top3"
      ],
      "metadata": {
        "id": "omjYxs8XRXwK"
      },
      "execution_count": null,
      "outputs": []
    },
    {
      "cell_type": "code",
      "source": [
        "# 연도에 따른 탑3 장르별 판매량 그래프 그리기\n",
        "plt.figure(figsize=(15, 8))\n",
        "\n",
        "sns.lineplot(data=df_genre_top3, x=\"Year\", y=\"Sales\", hue=\"Genre\", marker='o', linewidth=3)\n",
        "plt.legend(bbox_to_anchor=(1.02, 1), loc=2, borderaxespad=0.)\n",
        "plt.title('연도에 따른 TOP3 장르별 판매량', fontsize=20)\n",
        "plt.ylabel('판매량 (K)')"
      ],
      "metadata": {
        "id": "PejJADAkZKxl"
      },
      "execution_count": null,
      "outputs": []
    },
    {
      "cell_type": "code",
      "source": [
        "#5년 단위 장르별 판매량\n",
        "df_p = dfy_col_clean.groupby(['Year', 'Genre'])['Genre'].count().unstack()\n",
        "df_p = df_p.fillna(0)\n",
        "df_p.head()"
      ],
      "metadata": {
        "id": "ZQ7cEiImanEd"
      },
      "execution_count": null,
      "outputs": []
    },
    {
      "cell_type": "code",
      "source": [
        "df_p.loc['1980-1984', :] = df_p.loc[[1980, 1981, 1982, 1983, 1984]].sum()\n",
        "df_p.loc['1985-1989', :] = df_p.loc[[1985, 1986, 1987, 1988, 1989]].sum()\n",
        "df_p.loc['1990-1994', :] = df_p.loc[[1990, 1991, 1992, 1993, 1994]].sum()\n",
        "df_p.loc['1995-1999', :] = df_p.loc[[1995, 1996, 1997, 1998, 1999]].sum()\n",
        "df_p.loc['2000-2004', :]= df_p.loc[[2000, 2001, 2002, 2003, 2004]].sum()\n",
        "df_p.loc['2005-2009', :]= df_p.loc[[ 2005, 2006, 2007, 2008, 2009]].sum()\n",
        "df_p.loc['2010-2016', :] = df_p.loc[[2010, 2011, 2012, 2013, 2014, 2015, 2016]].sum()"
      ],
      "metadata": {
        "id": "ct1GL9sTbG-J"
      },
      "execution_count": null,
      "outputs": []
    },
    {
      "cell_type": "code",
      "source": [
        "df_p = df_p.loc[['1980-1984','1985-1989', '1990-1994','1995-1999', '2000-2004','2005-2009', '2010-2016']]\n",
        "df_p.reset_index()\n",
        "df_p"
      ],
      "metadata": {
        "id": "dW8wBUs1b4cv"
      },
      "execution_count": null,
      "outputs": []
    },
    {
      "cell_type": "code",
      "source": [
        "plt.figure(figsize=(15, 7))\n",
        "plt.title('시대별(5년) 게임 장르 트렌드', fontsize=15)\n",
        "plt.ylabel('판매량 (K)')\n",
        "sns.lineplot(data=df_p, marker='o', linewidth=3)\n",
        "#sns.lineplot(data=df_genre_top3, x=\"Year\", y=\"Sales\", hue=\"Genre\", marker='o', linewidth=3)"
      ],
      "metadata": {
        "id": "7uQbY-ZocJ2o"
      },
      "execution_count": null,
      "outputs": []
    },
    {
      "cell_type": "code",
      "source": [
        "df_ygss = df_ygs.groupby(['Year'])['Sales'].transform(max) == df_ygs['Sales']\n",
        "df_ygss_max = df_ygs[df_ygss].reset_index(drop=True)\n",
        "\n",
        "genre = df_ygss_max['Genre']\n",
        "\n",
        "plt.figure(figsize=(30, 18))\n",
        "g = sns.barplot(x='Year', y='Sales', data=df_ygss_max)\n",
        "index = 0\n",
        "for value in df_ygss_max['Sales']:\n",
        "    g.text(index, value + 1, str(genre[index]),size=20, rotation= 90, ha=\"center\")\n",
        "    index += 1\n",
        "\n",
        "plt.title(\"연도별 게임 트랜드\", fontsize=30)\n",
        "plt.xlabel(\"연도\", fontsize=20)\n",
        "plt.ylabel(\"총 판매량\", fontsize=20)\n",
        "\n",
        "plt.xticks(rotation=90)\n",
        "plt.show()"
      ],
      "metadata": {
        "id": "Iarta8KT1s1W"
      },
      "execution_count": null,
      "outputs": []
    },
    {
      "cell_type": "markdown",
      "source": [
        "라인 그래프를 통해 각 시대별로 어떤 장르 게임의 판매량이 많았는지 알 수 있다.\n",
        "\n",
        "skyblue색 실선을 의미하는 Action 장르는 1995-1999 구간 이후로 급격하게 성장하였다.\n",
        "1990부터 2009년까지 전 장르의 판매량이 증가하였다.\n",
        "하지만, 2009년 이후로 전반적으로 판매량이 감소하는 추세이다.\n",
        "\n",
        "바 그래프를 통해서 각 연도 별로 어떤 장르의 게임이 가장 많이 팔렸는지 알 수 있다\n",
        "2000년도 까지는 여러 장르들이 팔렸지만 2000년 이후 16년 중  2006,2007, 2014, 2016이렇게 4년을 제외하고는 Action게임이 매해 가장 많이 팔렸다"
      ],
      "metadata": {
        "id": "Cycs6Ek7fjgC"
      }
    },
    {
      "cell_type": "markdown",
      "source": [
        "# **3. 출고량이 높은 게임에 대한 분석 및 시각화 프로세스**"
      ],
      "metadata": {
        "id": "86p_XE9-4unZ"
      }
    },
    {
      "cell_type": "code",
      "source": [
        "df_k = dfy_col_clean.sort_values(by='Sales', ascending=False).head(20)\n",
        "df_kd =df_k[['Name', 'Year', 'Genre', 'Platform', 'Sales']].sort_values(by = 'Sales', ascending = False).reset_index(drop = True)\n",
        "df_kd"
      ],
      "metadata": {
        "id": "XlQjsyzi45_a"
      },
      "execution_count": null,
      "outputs": []
    },
    {
      "cell_type": "code",
      "source": [
        "plt.figure(figsize=(12, 5))\n",
        "plt.title('TOP 20 게임의 장르별 판매량', fontsize=20)\n",
        "sns.barplot(data=df_kd, x=\"Genre\", y=\"Sales\", palette=\"rainbow\", alpha=0.8)"
      ],
      "metadata": {
        "id": "0wyY7wzIKCQe"
      },
      "execution_count": null,
      "outputs": []
    },
    {
      "cell_type": "code",
      "source": [
        "df_kdp = df_kd.groupby([\"Platform\"]).sum()\n",
        "df_kdp = df_kdp.sort_values(by = 'Sales', ascending=False)\n",
        "df_kdp.head()"
      ],
      "metadata": {
        "id": "5esAwj1P5Isf"
      },
      "execution_count": null,
      "outputs": []
    },
    {
      "cell_type": "code",
      "source": [
        "wedgeprops = {'width':0.7, 'edgecolor' : 'w', 'linewidth' : 5}\n",
        "plt.figure(figsize=(12,10))\n",
        "plt.pie(df_kdp['Sales'], labels = df_kdp.index.values[:10], autopct='%1.2f%%', startangle=50, wedgeprops = wedgeprops)\n",
        "plt.axis('equal')\n",
        "plt.title('TOP20 게임 플랫폼의 판매량', fontsize = 20)\n",
        "plt.show()"
      ],
      "metadata": {
        "id": "nAJEV0YT4rnL"
      },
      "execution_count": null,
      "outputs": []
    },
    {
      "cell_type": "code",
      "source": [
        "#5년 단위 플랫폼별 판매량\n",
        "df_plat = dfy_col_clean.groupby(['Year', 'Platform'])['Platform'].count().unstack()\n",
        "df_plat = df_plat.fillna(0)\n",
        "df_plat.head()"
      ],
      "metadata": {
        "id": "PqR1atwN7VZp"
      },
      "execution_count": null,
      "outputs": []
    },
    {
      "cell_type": "code",
      "source": [
        "df_plat.loc['1980-1984', :] = df_plat.loc[[1980, 1981, 1982, 1983, 1984]].sum()\n",
        "df_plat.loc['1985-1989', :] = df_plat.loc[[1985, 1986, 1987, 1988, 1989]].sum()\n",
        "df_plat.loc['1990-1994', :] = df_plat.loc[[1990, 1991, 1992, 1993, 1994]].sum()\n",
        "df_plat.loc['1995-1999', :] = df_plat.loc[[1995, 1996, 1997, 1998, 1999]].sum()\n",
        "df_plat.loc['2000-2004', :] = df_plat.loc[[2000, 2001, 2002, 2003, 2004]].sum()\n",
        "df_plat.loc['2005-2009', :] = df_plat.loc[[2005, 2006, 2007, 2008, 2009]].sum()\n",
        "df_plat.loc['2010-2016', :] = df_plat.loc[[2010, 2011, 2012, 2013, 2014, 2015, 2016]].sum()"
      ],
      "metadata": {
        "id": "Wu9cS8k48NHy"
      },
      "execution_count": null,
      "outputs": []
    },
    {
      "cell_type": "code",
      "source": [
        "#플랫폼을 5년 단위로 나눈다\n",
        "df_plat = df_plat.loc[['1980-1984','1985-1989','1990-1994','1995-1999', '2000-2004','2005-2009', '2010-2016']]\n",
        "df_plat.reset_index()\n",
        "df_plat"
      ],
      "metadata": {
        "id": "58HX2zpH8fKX"
      },
      "execution_count": null,
      "outputs": []
    },
    {
      "cell_type": "code",
      "source": [
        "dfy_col_clean_p = dfy_col_clean.groupby(['Year','Platform'])['Sales'].sum()\n",
        "dfy_col_clean_p = dfy_col_clean_p.reset_index()\n",
        "dfy_col_clean_p.sort_values(by ='Sales', ascending=False)"
      ],
      "metadata": {
        "id": "u8L4GGi69gOa"
      },
      "execution_count": null,
      "outputs": []
    },
    {
      "cell_type": "code",
      "source": [
        "df_plat.plot(kind='bar', figsize=(20, 10), cmap='rainbow', alpha=0.5 )\n",
        "plt.title('1995-2016 플랫폼별 판매량', fontsize=20)\n",
        "plt.legend(loc='best')"
      ],
      "metadata": {
        "id": "vckkTZ7c8uj8"
      },
      "execution_count": null,
      "outputs": []
    },
    {
      "cell_type": "code",
      "source": [
        "df_ygsp = dfy_col_clean_p.groupby(['Year'])['Sales'].transform(max) == dfy_col_clean_p['Sales']\n",
        "df_ygsp_max = dfy_col_clean_p[df_ygsp].reset_index(drop=True)\n",
        "\n",
        "platform = df_ygsp_max['Platform']\n",
        "\n",
        "plt.figure(figsize=(30, 18))\n",
        "g = sns.barplot(x='Year', y='Sales', data=df_ygsp_max)\n",
        "index = 0\n",
        "for value in df_ygsp_max['Sales']:\n",
        "    g.text(index, value + 1, str(platform[index]),size=20, rotation= 90, ha=\"center\")\n",
        "    index += 1\n",
        "\n",
        "plt.title('연도별 플랫폼 트렌드', fontsize=30)\n",
        "plt.xlabel(\"연도\", fontsize=20)\n",
        "plt.ylabel('판매량 (K)', fontsize=20)\n",
        "\n",
        "plt.xticks(rotation=90)\n",
        "plt.show()"
      ],
      "metadata": {
        "id": "GcoiDYJW8-gp"
      },
      "execution_count": null,
      "outputs": []
    },
    {
      "cell_type": "code",
      "source": [
        "dfy_p = dfy_col_clean.groupby(['Platform']).sum()\n",
        "dfy_p = dfy_p.sort_values(by = 'Sales', ascending=False)\n",
        "dfy_p.head(10)"
      ],
      "metadata": {
        "id": "uRpNCNOrCN43"
      },
      "execution_count": null,
      "outputs": []
    },
    {
      "cell_type": "code",
      "source": [
        "wedgeprops = {'width':0.7, 'edgecolor' : 'w', 'linewidth' : 5}\n",
        "plt.figure(figsize=(12,10))\n",
        "plt.pie(dfy_p['Sales'][:10], labels = dfy_p.index.values[:10], autopct='%1.2f%%', startangle=50, wedgeprops = wedgeprops)\n",
        "plt.axis('equal')\n",
        "plt.title('TOP10 플랫폼의 판매량', fontsize = 20)\n",
        "plt.show()"
      ],
      "metadata": {
        "id": "StkhLRQFCRBq"
      },
      "execution_count": null,
      "outputs": []
    },
    {
      "cell_type": "code",
      "source": [
        "#개별 게임 판매량 Top 20의 장르\n",
        "dfy_g = df_kd.groupby(['Genre']).sum()\n",
        "dfy_g = dfy_g.sort_values(by = 'Sales', ascending=False)\n",
        "dfy_g.head(20)"
      ],
      "metadata": {
        "id": "U9lJcJFlC_qU"
      },
      "execution_count": null,
      "outputs": []
    },
    {
      "cell_type": "code",
      "source": [
        "wedgeprops = {'width':0.7, 'edgecolor' : 'w', 'linewidth' : 5}\n",
        "plt.figure(figsize=(12,10))\n",
        "plt.pie(dfy_g['Sales'], labels = dfy_g.index.values, autopct='%1.2f%%', startangle=50, wedgeprops = wedgeprops)\n",
        "plt.axis('equal')\n",
        "plt.title('TOP20 게임의 장르별 판매량', fontsize = 20)\n",
        "plt.show()"
      ],
      "metadata": {
        "id": "-E8goiTZDvHx"
      },
      "execution_count": null,
      "outputs": []
    },
    {
      "cell_type": "markdown",
      "source": [
        "판매량 Top3 중 액션장르와 슈터장르의 붐은 단일 게임의 활약이 아닌 여러 게임의 활약임을 알 수 있었고 스포츠장르는 wil series라는 확고한 강자가 있음을 알 수 있었다 또한 PS시리즈의 플랫폼을 이용한 게임이 많이 팔렸다."
      ],
      "metadata": {
        "id": "5K2ajbhT3Jd9"
      }
    },
    {
      "cell_type": "markdown",
      "source": [
        "# **4. 다음분기에 어떤 게임을 출시해야 할까?**"
      ],
      "metadata": {
        "id": "i5mstxbY9KzW"
      }
    },
    {
      "cell_type": "markdown",
      "source": [
        "1.   전체 게임의 장르별 판매량을 보면 Top3 장르는 Action, Sports, Shooter이다 일본을 제외한 나머지 국가에서 판매량 1,2 ,3위인 장르이다 의외로 일본에서 판매량 1위인 장르인  Role-playing은 Top3안에 들지 못했다\n",
        "\n",
        "2.   Top20 게임 판매량을 봤을 때는 전체게임 판매량 1위인 Action장르보다 2위인 Sports장르의 게임이 더 많이 팔렸음을 알 수 있다\n",
        "이 경우는 will sports를 비롯한 will 시리즈의 약진이 돋보인다\n",
        "3. 플랫폼의 경우 PS시리즈의 판매량이 두들어진다\n",
        "\n",
        "\n",
        "---\n",
        "\n",
        "\n",
        "결론 : Top20 게임 판매량을 고려해봤을 때 To3 장르 중 sports 는 will 시리즈가 많을 매출을 차지하고 있습니다 또한 일본에서 가장 많이 팔린 장르인 Role-Playing은 pocketmon 시리즈가 매출의 대분분을 차지하고 있습니다 그렇기 때문에 우리는 북미나 유럽을 타겟으로 Shooter 장르 계열의 Action 게임을 PS시리즈 플랫폼으로 발매하는게 유리합니다."
      ],
      "metadata": {
        "id": "-9QZOLbqEJta"
      }
    }
  ]
}